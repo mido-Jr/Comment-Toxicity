{
 "cells": [
  {
   "cell_type": "markdown",
   "id": "99e200f4-3659-4d32-ae61-fa0b8e93ac7e",
   "metadata": {},
   "source": [
    "# 0. Install Dependencies and Bring in Data"
   ]
  },
  {
   "cell_type": "code",
   "execution_count": 2,
   "id": "63cfcc5b-4951-44f4-be1f-1de319c9aae6",
   "metadata": {},
   "outputs": [],
   "source": [
    "#! pip install tensorflow tensorflow-gpu pandas matplotlib sklearn"
   ]
  },
  {
   "cell_type": "code",
   "execution_count": 3,
   "id": "15264d3e-1d1a-41e9-82c7-addb3722b860",
   "metadata": {},
   "outputs": [],
   "source": [
    "# import libraries\n",
    "import os\n",
    "import pandas as pd\n",
    "import tensorflow as tf\n",
    "import numpy as np\n",
    "%matplotlib inline"
   ]
  },
  {
   "cell_type": "code",
   "execution_count": 4,
   "id": "97aaf8dc-9546-483b-8098-a700b109ccc2",
   "metadata": {},
   "outputs": [
    {
     "name": "stdout",
     "output_type": "stream",
     "text": [
      "3.10.0 (set by C:\\Users\\DELL\\.pyenv\\pyenv-win\\version)\n"
     ]
    }
   ],
   "source": [
    "!pyenv version"
   ]
  },
  {
   "cell_type": "code",
   "execution_count": 7,
   "id": "fdff77ce-6d83-4e88-b1a9-84273c9b9cbf",
   "metadata": {},
   "outputs": [
    {
     "data": {
      "text/html": [
       "<div>\n",
       "<style scoped>\n",
       "    .dataframe tbody tr th:only-of-type {\n",
       "        vertical-align: middle;\n",
       "    }\n",
       "\n",
       "    .dataframe tbody tr th {\n",
       "        vertical-align: top;\n",
       "    }\n",
       "\n",
       "    .dataframe thead th {\n",
       "        text-align: right;\n",
       "    }\n",
       "</style>\n",
       "<table border=\"1\" class=\"dataframe\">\n",
       "  <thead>\n",
       "    <tr style=\"text-align: right;\">\n",
       "      <th></th>\n",
       "      <th>id</th>\n",
       "      <th>comment_text</th>\n",
       "      <th>toxic</th>\n",
       "      <th>severe_toxic</th>\n",
       "      <th>obscene</th>\n",
       "      <th>threat</th>\n",
       "      <th>insult</th>\n",
       "      <th>identity_hate</th>\n",
       "    </tr>\n",
       "  </thead>\n",
       "  <tbody>\n",
       "    <tr>\n",
       "      <th>0</th>\n",
       "      <td>0000997932d777bf</td>\n",
       "      <td>Explanation\\nWhy the edits made under my usern...</td>\n",
       "      <td>0</td>\n",
       "      <td>0</td>\n",
       "      <td>0</td>\n",
       "      <td>0</td>\n",
       "      <td>0</td>\n",
       "      <td>0</td>\n",
       "    </tr>\n",
       "    <tr>\n",
       "      <th>1</th>\n",
       "      <td>000103f0d9cfb60f</td>\n",
       "      <td>D'aww! He matches this background colour I'm s...</td>\n",
       "      <td>0</td>\n",
       "      <td>0</td>\n",
       "      <td>0</td>\n",
       "      <td>0</td>\n",
       "      <td>0</td>\n",
       "      <td>0</td>\n",
       "    </tr>\n",
       "    <tr>\n",
       "      <th>2</th>\n",
       "      <td>000113f07ec002fd</td>\n",
       "      <td>Hey man, I'm really not trying to edit war. It...</td>\n",
       "      <td>0</td>\n",
       "      <td>0</td>\n",
       "      <td>0</td>\n",
       "      <td>0</td>\n",
       "      <td>0</td>\n",
       "      <td>0</td>\n",
       "    </tr>\n",
       "  </tbody>\n",
       "</table>\n",
       "</div>"
      ],
      "text/plain": [
       "                 id                                       comment_text  toxic  \\\n",
       "0  0000997932d777bf  Explanation\\nWhy the edits made under my usern...      0   \n",
       "1  000103f0d9cfb60f  D'aww! He matches this background colour I'm s...      0   \n",
       "2  000113f07ec002fd  Hey man, I'm really not trying to edit war. It...      0   \n",
       "\n",
       "   severe_toxic  obscene  threat  insult  identity_hate  \n",
       "0             0        0       0       0              0  \n",
       "1             0        0       0       0              0  \n",
       "2             0        0       0       0              0  "
      ]
     },
     "execution_count": 7,
     "metadata": {},
     "output_type": "execute_result"
    }
   ],
   "source": [
    "# reading and show the data\n",
    "data_path = os.path.join('data','train.csv')\n",
    "df = pd.read_csv(data_path)\n",
    "df.head(3)"
   ]
  },
  {
   "cell_type": "code",
   "execution_count": 16,
   "id": "ec8d7b80-18f5-4d57-818d-39a0d21e237d",
   "metadata": {},
   "outputs": [],
   "source": [
    "comment = 12"
   ]
  },
  {
   "cell_type": "code",
   "execution_count": 17,
   "id": "111f0984-c55a-404b-b6b4-3078b8a4a3bc",
   "metadata": {},
   "outputs": [
    {
     "data": {
      "text/plain": [
       "'Hey... what is it..\\n@ | talk .\\nWhat is it... an exclusive group of some WP TALIBANS...who are good at destroying, self-appointed purist who GANG UP any one who asks them questions abt their ANTI-SOCIAL and DESTRUCTIVE (non)-contribution at WP?\\n\\nAsk Sityush to clean up his behavior than issue me nonsensical warnings...'"
      ]
     },
     "execution_count": 17,
     "metadata": {},
     "output_type": "execute_result"
    }
   ],
   "source": [
    "# show a comment_text\n",
    "df['comment_text'][comment]"
   ]
  },
  {
   "cell_type": "code",
   "execution_count": 18,
   "id": "d4269368-374e-4680-ad08-a5a477cd55b7",
   "metadata": {},
   "outputs": [
    {
     "data": {
      "text/plain": [
       "toxic            1\n",
       "severe_toxic     0\n",
       "obscene          0\n",
       "threat           0\n",
       "insult           0\n",
       "identity_hate    0\n",
       "Name: 12, dtype: int64"
      ]
     },
     "execution_count": 18,
     "metadata": {},
     "output_type": "execute_result"
    }
   ],
   "source": [
    "# show labels for this comment_text\n",
    "df[df.columns[2:]].iloc[comment]"
   ]
  },
  {
   "cell_type": "markdown",
   "id": "ccf127c9-6cfc-4326-85a4-e5ead3173a1f",
   "metadata": {},
   "source": [
    "# 1. Preprocessing the Data"
   ]
  },
  {
   "cell_type": "code",
   "execution_count": 20,
   "id": "29a219c2-9727-4a19-8c04-18ebc936b38b",
   "metadata": {},
   "outputs": [],
   "source": [
    "# import important layers\n",
    "from tensorflow.keras.layers import TextVectorization"
   ]
  },
  {
   "cell_type": "code",
   "execution_count": 21,
   "id": "e5b3f29c-d5dc-4431-bea3-d2a581daff67",
   "metadata": {
    "collapsed": true,
    "jupyter": {
     "outputs_hidden": true
    },
    "tags": []
   },
   "outputs": [
    {
     "data": {
      "text/plain": [
       "\u001b[1;31mInit signature:\u001b[0m\n",
       "\u001b[0mTextVectorization\u001b[0m\u001b[1;33m(\u001b[0m\u001b[1;33m\n",
       "\u001b[0m    \u001b[0mmax_tokens\u001b[0m\u001b[1;33m=\u001b[0m\u001b[1;32mNone\u001b[0m\u001b[1;33m,\u001b[0m\u001b[1;33m\n",
       "\u001b[0m    \u001b[0mstandardize\u001b[0m\u001b[1;33m=\u001b[0m\u001b[1;34m'lower_and_strip_punctuation'\u001b[0m\u001b[1;33m,\u001b[0m\u001b[1;33m\n",
       "\u001b[0m    \u001b[0msplit\u001b[0m\u001b[1;33m=\u001b[0m\u001b[1;34m'whitespace'\u001b[0m\u001b[1;33m,\u001b[0m\u001b[1;33m\n",
       "\u001b[0m    \u001b[0mngrams\u001b[0m\u001b[1;33m=\u001b[0m\u001b[1;32mNone\u001b[0m\u001b[1;33m,\u001b[0m\u001b[1;33m\n",
       "\u001b[0m    \u001b[0moutput_mode\u001b[0m\u001b[1;33m=\u001b[0m\u001b[1;34m'int'\u001b[0m\u001b[1;33m,\u001b[0m\u001b[1;33m\n",
       "\u001b[0m    \u001b[0moutput_sequence_length\u001b[0m\u001b[1;33m=\u001b[0m\u001b[1;32mNone\u001b[0m\u001b[1;33m,\u001b[0m\u001b[1;33m\n",
       "\u001b[0m    \u001b[0mpad_to_max_tokens\u001b[0m\u001b[1;33m=\u001b[0m\u001b[1;32mFalse\u001b[0m\u001b[1;33m,\u001b[0m\u001b[1;33m\n",
       "\u001b[0m    \u001b[0mvocabulary\u001b[0m\u001b[1;33m=\u001b[0m\u001b[1;32mNone\u001b[0m\u001b[1;33m,\u001b[0m\u001b[1;33m\n",
       "\u001b[0m    \u001b[0midf_weights\u001b[0m\u001b[1;33m=\u001b[0m\u001b[1;32mNone\u001b[0m\u001b[1;33m,\u001b[0m\u001b[1;33m\n",
       "\u001b[0m    \u001b[0msparse\u001b[0m\u001b[1;33m=\u001b[0m\u001b[1;32mFalse\u001b[0m\u001b[1;33m,\u001b[0m\u001b[1;33m\n",
       "\u001b[0m    \u001b[0mragged\u001b[0m\u001b[1;33m=\u001b[0m\u001b[1;32mFalse\u001b[0m\u001b[1;33m,\u001b[0m\u001b[1;33m\n",
       "\u001b[0m    \u001b[1;33m**\u001b[0m\u001b[0mkwargs\u001b[0m\u001b[1;33m,\u001b[0m\u001b[1;33m\n",
       "\u001b[0m\u001b[1;33m)\u001b[0m\u001b[1;33m\u001b[0m\u001b[1;33m\u001b[0m\u001b[0m\n",
       "\u001b[1;31mDocstring:\u001b[0m     \n",
       "A preprocessing layer which maps text features to integer sequences.\n",
       "\n",
       "This layer has basic options for managing text in a Keras model. It\n",
       "transforms a batch of strings (one example = one string) into either a list\n",
       "of token indices (one example = 1D tensor of integer token indices) or a\n",
       "dense representation (one example = 1D tensor of float values representing\n",
       "data about the example's tokens). This layer is meant to handle natural\n",
       "language inputs. To handle simple string inputs (categorical strings or\n",
       "pre-tokenized strings) see `tf.keras.layers.StringLookup`.\n",
       "\n",
       "The vocabulary for the layer must be either supplied on construction or\n",
       "learned via `adapt()`. When this layer is adapted, it will analyze the\n",
       "dataset, determine the frequency of individual string values, and create a\n",
       "vocabulary from them. This vocabulary can have unlimited size or be capped,\n",
       "depending on the configuration options for this layer; if there are more\n",
       "unique values in the input than the maximum vocabulary size, the most\n",
       "frequent terms will be used to create the vocabulary.\n",
       "\n",
       "The processing of each example contains the following steps:\n",
       "\n",
       "1. Standardize each example (usually lowercasing + punctuation stripping)\n",
       "2. Split each example into substrings (usually words)\n",
       "3. Recombine substrings into tokens (usually ngrams)\n",
       "4. Index tokens (associate a unique int value with each token)\n",
       "5. Transform each example using this index, either into a vector of ints or\n",
       "   a dense float vector.\n",
       "\n",
       "Some notes on passing callables to customize splitting and normalization for\n",
       "this layer:\n",
       "\n",
       "1. Any callable can be passed to this Layer, but if you want to serialize\n",
       "   this object you should only pass functions that are registered Keras\n",
       "   serializables (see `tf.keras.utils.register_keras_serializable` for more\n",
       "   details).\n",
       "2. When using a custom callable for `standardize`, the data received\n",
       "   by the callable will be exactly as passed to this layer. The callable\n",
       "   should return a tensor of the same shape as the input.\n",
       "3. When using a custom callable for `split`, the data received by the\n",
       "   callable will have the 1st dimension squeezed out - instead of\n",
       "   `[[\"string to split\"], [\"another string to split\"]]`, the Callable will\n",
       "   see `[\"string to split\", \"another string to split\"]`. The callable should\n",
       "   return a Tensor with the first dimension containing the split tokens -\n",
       "   in this example, we should see something like `[[\"string\", \"to\",\n",
       "   \"split\"], [\"another\", \"string\", \"to\", \"split\"]]`. This makes the callable\n",
       "   site natively compatible with `tf.strings.split()`.\n",
       "\n",
       "For an overview and full list of preprocessing layers, see the preprocessing\n",
       "[guide](https://www.tensorflow.org/guide/keras/preprocessing_layers).\n",
       "\n",
       "Args:\n",
       "  max_tokens: Maximum size of the vocabulary for this layer. This should\n",
       "    only be specified when adapting a vocabulary or when setting\n",
       "    `pad_to_max_tokens=True`. Note that this vocabulary\n",
       "    contains 1 OOV token, so the effective number of tokens is\n",
       "    `(max_tokens - 1 - (1 if output_mode == \"int\" else 0))`.\n",
       "  standardize: Optional specification for standardization to apply to the\n",
       "    input text. Values can be:\n",
       "      - `None`: No standardization.\n",
       "      - `\"lower_and_strip_punctuation\"`: Text will be lowercased and all\n",
       "        punctuation removed.\n",
       "      - `\"lower\"`: Text will be lowercased.\n",
       "      - `\"strip_punctuation\"`: All punctuation will be removed.\n",
       "      - Callable: Inputs will passed to the callable function, which should\n",
       "        standardized and returned.\n",
       "  split: Optional specification for splitting the input text. Values can be:\n",
       "      - `None`: No splitting.\n",
       "      - `\"whitespace\"`: Split on whitespace.\n",
       "      - `\"character\"`: Split on each unicode character.\n",
       "      - Callable: Standardized inputs will passed to the callable function,\n",
       "        which should split and returned.\n",
       "  ngrams: Optional specification for ngrams to create from the\n",
       "    possibly-split input text. Values can be None, an integer or tuple of\n",
       "    integers; passing an integer will create ngrams up to that integer, and\n",
       "    passing a tuple of integers will create ngrams for the specified values\n",
       "    in the tuple. Passing None means that no ngrams will be created.\n",
       "  output_mode: Optional specification for the output of the layer. Values\n",
       "    can be `\"int\"`, `\"multi_hot\"`, `\"count\"` or `\"tf_idf\"`, configuring the\n",
       "    layer as follows:\n",
       "      - `\"int\"`: Outputs integer indices, one integer index per split string\n",
       "        token. When `output_mode == \"int\"`, 0 is reserved for masked\n",
       "        locations; this reduces the vocab size to\n",
       "        `max_tokens - 2` instead of `max_tokens - 1`.\n",
       "      - `\"multi_hot\"`: Outputs a single int array per batch, of either\n",
       "        vocab_size or max_tokens size, containing 1s in all elements where\n",
       "        the token mapped to that index exists at least once in the batch\n",
       "        item.\n",
       "      - `\"count\"`: Like `\"multi_hot\"`, but the int array contains a count of\n",
       "        the number of times the token at that index appeared in the\n",
       "        batch item.\n",
       "      - `\"tf_idf\"`: Like `\"multi_hot\"`, but the TF-IDF algorithm is applied\n",
       "        to find the value in each token slot.\n",
       "    For `\"int\"` output, any shape of input and output is supported. For all\n",
       "    other output modes, currently only rank 1 inputs (and rank 2 outputs\n",
       "    after splitting) are supported.\n",
       "  output_sequence_length: Only valid in INT mode. If set, the output will\n",
       "    have its time dimension padded or truncated to exactly\n",
       "    `output_sequence_length` values, resulting in a tensor of shape\n",
       "    `(batch_size, output_sequence_length)` regardless of how many tokens\n",
       "    resulted from the splitting step. Defaults to None.\n",
       "  pad_to_max_tokens: Only valid in  `\"multi_hot\"`, `\"count\"`, and `\"tf_idf\"`\n",
       "    modes. If True, the output will have its feature axis padded to\n",
       "    `max_tokens` even if the number of unique tokens in the vocabulary is\n",
       "    less than max_tokens, resulting in a tensor of shape `(batch_size,\n",
       "    max_tokens)` regardless of vocabulary size. Defaults to False.\n",
       "  vocabulary: Optional. Either an array of strings or a string path to a\n",
       "    text file. If passing an array, can pass a tuple, list, 1D numpy array,\n",
       "    or 1D tensor containing the string vocbulary terms. If passing a file\n",
       "    path, the file should contain one line per term in the vocabulary. If\n",
       "    this argument is set, there is no need to `adapt()` the layer.\n",
       "  idf_weights: Only valid when `output_mode` is `\"tf_idf\"`. A tuple, list,\n",
       "    1D numpy array, or 1D tensor or the same length as the vocabulary,\n",
       "    containing the floating point inverse document frequency weights, which\n",
       "    will be multiplied by per sample term counts for the final `tf_idf`\n",
       "    weight. If the `vocabulary` argument is set, and `output_mode` is\n",
       "    `\"tf_idf\"`, this argument must be supplied.\n",
       "  ragged: Boolean. Only applicable to `\"int\"` output mode. If True, returns\n",
       "    a `RaggedTensor` instead of a dense `Tensor`, where each sequence may\n",
       "    have a different length after string splitting. Defaults to False.\n",
       "  sparse: Boolean. Only applicable to `\"multi_hot\"`, `\"count\"`, and\n",
       "    `\"tf_idf\"` output modes. If True, returns a `SparseTensor` instead of a\n",
       "    dense `Tensor`. Defaults to False.\n",
       "\n",
       "Example:\n",
       "\n",
       "This example instantiates a `TextVectorization` layer that lowercases text,\n",
       "splits on whitespace, strips punctuation, and outputs integer vocab indices.\n",
       "\n",
       ">>> text_dataset = tf.data.Dataset.from_tensor_slices([\"foo\", \"bar\", \"baz\"])\n",
       ">>> max_features = 5000  # Maximum vocab size.\n",
       ">>> max_len = 4  # Sequence length to pad the outputs to.\n",
       ">>>\n",
       ">>> # Create the layer.\n",
       ">>> vectorize_layer = tf.keras.layers.TextVectorization(\n",
       "...  max_tokens=max_features,\n",
       "...  output_mode='int',\n",
       "...  output_sequence_length=max_len)\n",
       ">>>\n",
       ">>> # Now that the vocab layer has been created, call `adapt` on the\n",
       ">>> # text-only dataset to create the vocabulary. You don't have to batch,\n",
       ">>> # but for large datasets this means we're not keeping spare copies of\n",
       ">>> # the dataset.\n",
       ">>> vectorize_layer.adapt(text_dataset.batch(64))\n",
       ">>>\n",
       ">>> # Create the model that uses the vectorize text layer\n",
       ">>> model = tf.keras.models.Sequential()\n",
       ">>>\n",
       ">>> # Start by creating an explicit input layer. It needs to have a shape of\n",
       ">>> # (1,) (because we need to guarantee that there is exactly one string\n",
       ">>> # input per batch), and the dtype needs to be 'string'.\n",
       ">>> model.add(tf.keras.Input(shape=(1,), dtype=tf.string))\n",
       ">>>\n",
       ">>> # The first layer in our model is the vectorization layer. After this\n",
       ">>> # layer, we have a tensor of shape (batch_size, max_len) containing\n",
       ">>> # vocab indices.\n",
       ">>> model.add(vectorize_layer)\n",
       ">>>\n",
       ">>> # Now, the model can map strings to integers, and you can add an\n",
       ">>> # embedding layer to map these integers to learned embeddings.\n",
       ">>> input_data = [[\"foo qux bar\"], [\"qux baz\"]]\n",
       ">>> model.predict(input_data)\n",
       "array([[2, 1, 4, 0],\n",
       "       [1, 3, 0, 0]])\n",
       "\n",
       "Example:\n",
       "\n",
       "This example instantiates a `TextVectorization` layer by passing a list\n",
       "of vocabulary terms to the layer's `__init__()` method.\n",
       "\n",
       ">>> vocab_data = [\"earth\", \"wind\", \"and\", \"fire\"]\n",
       ">>> max_len = 4  # Sequence length to pad the outputs to.\n",
       ">>>\n",
       ">>> # Create the layer, passing the vocab directly. You can also pass the\n",
       ">>> # vocabulary arg a path to a file containing one vocabulary word per\n",
       ">>> # line.\n",
       ">>> vectorize_layer = tf.keras.layers.TextVectorization(\n",
       "...  max_tokens=max_features,\n",
       "...  output_mode='int',\n",
       "...  output_sequence_length=max_len,\n",
       "...  vocabulary=vocab_data)\n",
       ">>>\n",
       ">>> # Because we've passed the vocabulary directly, we don't need to adapt\n",
       ">>> # the layer - the vocabulary is already set. The vocabulary contains the\n",
       ">>> # padding token ('') and OOV token ('[UNK]') as well as the passed\n",
       ">>> # tokens.\n",
       ">>> vectorize_layer.get_vocabulary()\n",
       "['', '[UNK]', 'earth', 'wind', 'and', 'fire']\n",
       "\u001b[1;31mFile:\u001b[0m           c:\\users\\dell\\.pyenv\\pyenv-win\\versions\\3.10.0\\lib\\site-packages\\keras\\layers\\preprocessing\\text_vectorization.py\n",
       "\u001b[1;31mType:\u001b[0m           ABCMeta\n",
       "\u001b[1;31mSubclasses:\u001b[0m     \n"
      ]
     },
     "metadata": {},
     "output_type": "display_data"
    }
   ],
   "source": [
    "TextVectorization?"
   ]
  },
  {
   "cell_type": "code",
   "execution_count": 27,
   "id": "0618b9da-238e-4138-a794-78df95414a9f",
   "metadata": {},
   "outputs": [],
   "source": [
    "# split the df into inputs texts and labels\n",
    "X = df['comment_text']\n",
    "y = df[df.columns[2:]].values"
   ]
  },
  {
   "cell_type": "code",
   "execution_count": 28,
   "id": "dbc9e4f5-3ffe-4424-a2a6-90d83f3e1daa",
   "metadata": {},
   "outputs": [],
   "source": [
    "# number of words in the vocab\n",
    "MAX_FEATURE = 20000\n"
   ]
  },
  {
   "cell_type": "code",
   "execution_count": 37,
   "id": "eb15b368-5ad5-4319-86a6-2b7c2f534234",
   "metadata": {},
   "outputs": [],
   "source": [
    "vectorizer = TextVectorization(max_tokens=MAX_FEATURE,\n",
    "                               output_mode='int')"
   ]
  },
  {
   "cell_type": "code",
   "execution_count": 38,
   "id": "589a43ed-517c-4e03-b33f-a0a0e10c6de6",
   "metadata": {},
   "outputs": [],
   "source": [
    "# learn from text\n",
    "vectorizer.adapt(X.values)"
   ]
  },
  {
   "cell_type": "code",
   "execution_count": 40,
   "id": "9c23ae19-3ca3-4021-aba9-1f48bc4cf152",
   "metadata": {},
   "outputs": [
    {
     "data": {
      "text/plain": [
       "<tf.Tensor: shape=(5,), dtype=int64, numpy=array([  8, 454,   7,  37, 129], dtype=int64)>"
      ]
     },
     "execution_count": 40,
     "metadata": {},
     "output_type": "execute_result"
    }
   ],
   "source": [
    "# check the numeric representation\n",
    "vectorizer('i love you so much')"
   ]
  },
  {
   "cell_type": "code",
   "execution_count": 41,
   "id": "33315107-4045-4aff-ab3b-439167d34808",
   "metadata": {},
   "outputs": [
    {
     "data": {
      "text/plain": [
       "<tf.Tensor: shape=(4,), dtype=int64, numpy=array([ 55, 254,  36, 329], dtype=int64)>"
      ]
     },
     "execution_count": 41,
     "metadata": {},
     "output_type": "execute_result"
    }
   ],
   "source": [
    "vectorizer(\"don't let me down\")"
   ]
  },
  {
   "cell_type": "code",
   "execution_count": 43,
   "id": "85d8b21d-0954-42e5-8e4f-382da80c50ed",
   "metadata": {},
   "outputs": [],
   "source": [
    "# convert the text data after the vectorizer learn\n",
    "vectorizerd_text= vectorizer(X.values)"
   ]
  },
  {
   "cell_type": "code",
   "execution_count": 48,
   "id": "1811819c-7804-4177-bc3d-c034b75e0770",
   "metadata": {},
   "outputs": [],
   "source": [
    "# make tensroflow data pipeline\n",
    "def pipeline(vectorizerd_text,y):\n",
    "    dataset = tf.data.Dataset.from_tensor_slices((vectorizerd_text,y))\n",
    "    dataset = dataset.cache()\n",
    "    dataset = dataset.shuffle(160000)\n",
    "    dataset = dataset.batch(16)\n",
    "    dataset = dataset.prefetch(8)\n",
    "    return dataset\n"
   ]
  },
  {
   "cell_type": "code",
   "execution_count": 50,
   "id": "33432fba-9c1c-4ee9-b626-d8c29758f227",
   "metadata": {},
   "outputs": [],
   "source": [
    "dataset = pipeline(vectorizerd_text,y)"
   ]
  },
  {
   "cell_type": "code",
   "execution_count": 51,
   "id": "86df67ca-780d-4493-819b-1134e2a10d77",
   "metadata": {},
   "outputs": [
    {
     "data": {
      "text/plain": [
       "<tensorflow.python.data.ops.dataset_ops._NumpyIterator at 0x2b1af112c80>"
      ]
     },
     "execution_count": 51,
     "metadata": {},
     "output_type": "execute_result"
    }
   ],
   "source": [
    "# make numpy iterators\n",
    "dataset.as_numpy_iterator()"
   ]
  },
  {
   "cell_type": "code",
   "execution_count": 53,
   "id": "ac888a4c-18ff-424b-946e-ab1e594eb8fa",
   "metadata": {},
   "outputs": [],
   "source": [
    "# train test split the dataset\n",
    "Train = dataset.take(int(len(dataset)*.7))\n",
    "val = dataset.skip(int(len(dataset)*.7)).take(int(len(dataset)*.2))\n",
    "Test = dataset.skip(int(len(dataset)*.9)).take(int(len(dataset)*.1))"
   ]
  },
  {
   "cell_type": "markdown",
   "id": "70ad428d-dd07-4aff-b350-3fc81f859eff",
   "metadata": {},
   "source": [
    "# 3. Bulid the Deep Models"
   ]
  },
  {
   "cell_type": "code",
   "execution_count": null,
   "id": "c1d5b721-ca5a-49a1-b312-9b8f0c318c37",
   "metadata": {},
   "outputs": [],
   "source": []
  }
 ],
 "metadata": {
  "kernelspec": {
   "display_name": "Python 3 (ipykernel)",
   "language": "python",
   "name": "python3"
  },
  "language_info": {
   "codemirror_mode": {
    "name": "ipython",
    "version": 3
   },
   "file_extension": ".py",
   "mimetype": "text/x-python",
   "name": "python",
   "nbconvert_exporter": "python",
   "pygments_lexer": "ipython3",
   "version": "3.10.0"
  }
 },
 "nbformat": 4,
 "nbformat_minor": 5
}
