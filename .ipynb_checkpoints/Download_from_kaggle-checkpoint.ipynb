{
 "cells": [
  {
   "cell_type": "code",
   "execution_count": 1,
   "metadata": {},
   "outputs": [
    {
     "name": "stdout",
     "output_type": "stream",
     "text": [
      "Requirement already satisfied: kaggle in c:\\users\\dell\\.pyenv\\pyenv-win\\versions\\3.10.0\\lib\\site-packages (1.5.12)\n",
      "Requirement already satisfied: certifi in c:\\users\\dell\\.pyenv\\pyenv-win\\versions\\3.10.0\\lib\\site-packages (from kaggle) (2022.9.24)\n",
      "Requirement already satisfied: six>=1.10 in c:\\users\\dell\\.pyenv\\pyenv-win\\versions\\3.10.0\\lib\\site-packages (from kaggle) (1.16.0)\n",
      "Requirement already satisfied: requests in c:\\users\\dell\\.pyenv\\pyenv-win\\versions\\3.10.0\\lib\\site-packages (from kaggle) (2.28.1)\n",
      "Requirement already satisfied: python-dateutil in c:\\users\\dell\\.pyenv\\pyenv-win\\versions\\3.10.0\\lib\\site-packages (from kaggle) (2.8.2)\n",
      "Requirement already satisfied: urllib3 in c:\\users\\dell\\.pyenv\\pyenv-win\\versions\\3.10.0\\lib\\site-packages (from kaggle) (1.26.13)\n",
      "Requirement already satisfied: tqdm in c:\\users\\dell\\.pyenv\\pyenv-win\\versions\\3.10.0\\lib\\site-packages (from kaggle) (4.64.1)\n",
      "Requirement already satisfied: python-slugify in c:\\users\\dell\\.pyenv\\pyenv-win\\versions\\3.10.0\\lib\\site-packages (from kaggle) (7.0.0)\n",
      "Requirement already satisfied: text-unidecode>=1.3 in c:\\users\\dell\\.pyenv\\pyenv-win\\versions\\3.10.0\\lib\\site-packages (from python-slugify->kaggle) (1.3)\n",
      "Requirement already satisfied: charset-normalizer<3,>=2 in c:\\users\\dell\\.pyenv\\pyenv-win\\versions\\3.10.0\\lib\\site-packages (from requests->kaggle) (2.1.1)\n",
      "Requirement already satisfied: idna<4,>=2.5 in c:\\users\\dell\\.pyenv\\pyenv-win\\versions\\3.10.0\\lib\\site-packages (from requests->kaggle) (3.4)\n",
      "Requirement already satisfied: colorama in c:\\users\\dell\\.pyenv\\pyenv-win\\versions\\3.10.0\\lib\\site-packages (from tqdm->kaggle) (0.4.6)\n"
     ]
    },
    {
     "name": "stderr",
     "output_type": "stream",
     "text": [
      "WARNING: You are using pip version 21.2.3; however, version 22.3.1 is available.\n",
      "You should consider upgrading via the 'C:\\Users\\DELL\\.pyenv\\pyenv-win\\versions\\3.10.0\\python.exe -m pip install --upgrade pip' command.\n"
     ]
    }
   ],
   "source": [
    "#Installation\n",
    "! pip install kaggle "
   ]
  },
  {
   "cell_type": "code",
   "execution_count": 2,
   "metadata": {},
   "outputs": [
    {
     "data": {
      "text/plain": [
       "{'username': 'midojr', 'key': '*************************'}"
      ]
     },
     "execution_count": 2,
     "metadata": {},
     "output_type": "execute_result"
    }
   ],
   "source": [
    "# Ahmad Elnassag \n",
    "{\"username\":\"midojr\",\"key\":\"*************************\"}\n",
    "# make sure you have the kaggle.josn like this"
   ]
  },
  {
   "cell_type": "markdown",
   "metadata": {},
   "source": [
    "To Download the dataset , make sure the \"Kaggle.Json\" file\n",
    "in \"C:\\Users\\DELL\\.kaggle\" direction"
   ]
  },
  {
   "cell_type": "code",
   "execution_count": 3,
   "metadata": {},
   "outputs": [],
   "source": [
    "# Download and unzip Dataset  into '/usr/local' using API command usning --unzip\n",
    "! kaggle datasets download -d apollo2506/facial-recognition-dataset --unzip"
   ]
  },
  {
   "cell_type": "code",
   "execution_count": null,
   "metadata": {},
   "outputs": [],
   "source": []
  }
 ],
 "metadata": {
  "kernelspec": {
   "display_name": "Python 3 (ipykernel)",
   "language": "python",
   "name": "python3"
  },
  "language_info": {
   "codemirror_mode": {
    "name": "ipython",
    "version": 3
   },
   "file_extension": ".py",
   "mimetype": "text/x-python",
   "name": "python",
   "nbconvert_exporter": "python",
   "pygments_lexer": "ipython3",
   "version": "3.10.0"
  },
  "vscode": {
   "interpreter": {
    "hash": "ead3e91e135fbaa728b4bbcd02d19569dbf39ef118ea03781de3e3d360ab0d33"
   }
  }
 },
 "nbformat": 4,
 "nbformat_minor": 4
}
