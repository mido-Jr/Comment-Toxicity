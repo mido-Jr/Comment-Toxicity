{
 "cells": [
  {
   "cell_type": "code",
   "execution_count": 1,
   "metadata": {},
   "outputs": [
    {
     "name": "stdout",
     "output_type": "stream",
     "text": [
      "Requirement already satisfied: kaggle in c:\\users\\dell\\anaconda3\\lib\\site-packages (1.5.12)\n",
      "Requirement already satisfied: certifi in c:\\users\\dell\\anaconda3\\lib\\site-packages (from kaggle) (2020.12.5)\n",
      "Requirement already satisfied: tqdm in c:\\users\\dell\\anaconda3\\lib\\site-packages (from kaggle) (4.59.0)\n",
      "Requirement already satisfied: requests in c:\\users\\dell\\anaconda3\\lib\\site-packages (from kaggle) (2.25.1)\n",
      "Requirement already satisfied: python-slugify in c:\\users\\dell\\anaconda3\\lib\\site-packages (from kaggle) (6.1.2)\n",
      "Requirement already satisfied: six>=1.10 in c:\\users\\dell\\anaconda3\\lib\\site-packages (from kaggle) (1.15.0)\n",
      "Requirement already satisfied: python-dateutil in c:\\users\\dell\\anaconda3\\lib\\site-packages (from kaggle) (2.8.1)\n",
      "Requirement already satisfied: urllib3 in c:\\users\\dell\\anaconda3\\lib\\site-packages (from kaggle) (1.26.4)\n",
      "Requirement already satisfied: text-unidecode>=1.3 in c:\\users\\dell\\anaconda3\\lib\\site-packages (from python-slugify->kaggle) (1.3)\n",
      "Requirement already satisfied: idna<3,>=2.5 in c:\\users\\dell\\anaconda3\\lib\\site-packages (from requests->kaggle) (2.10)\n",
      "Requirement already satisfied: chardet<5,>=3.0.2 in c:\\users\\dell\\anaconda3\\lib\\site-packages (from requests->kaggle) (4.0.0)\n"
     ]
    }
   ],
   "source": [
    "#Installation\n",
    "! pip install kaggle "
   ]
  },
  {
   "cell_type": "code",
   "execution_count": 2,
   "metadata": {},
   "outputs": [
    {
     "data": {
      "text/plain": [
       "{'username': 'midojr', 'key': '*************************'}"
      ]
     },
     "execution_count": 2,
     "metadata": {},
     "output_type": "execute_result"
    }
   ],
   "source": [
    "# Ahmad Elnassag \n",
    "{\"username\":\"midojr\",\"key\":\"*************************\"}\n",
    "# make sure you have the kaggle.josn like this"
   ]
  },
  {
   "cell_type": "markdown",
   "metadata": {},
   "source": [
    "To Download the dataset , make sure the \"Kaggle.Json\" file\n",
    "in \"C:\\Users\\DELL\\.kaggle\" direction"
   ]
  },
  {
   "cell_type": "code",
   "execution_count": 3,
   "metadata": {},
   "outputs": [
    {
     "name": "stdout",
     "output_type": "stream",
     "text": [
      "Downloading jigsaw-toxic-comment-classification-challenge.zip to D:\\Ahmed\\Githup\\Deep Learning Projects\\Comment Toxicity\n",
      "\n"
     ]
    },
    {
     "name": "stderr",
     "output_type": "stream",
     "text": [
      "\n",
      "  0%|          | 0.00/53.4M [00:00<?, ?B/s]\n",
      "  2%|1         | 1.00M/53.4M [00:02<02:13, 411kB/s]\n",
      "  4%|3         | 2.00M/53.4M [00:03<01:20, 668kB/s]\n",
      "  6%|5         | 3.00M/53.4M [00:03<00:50, 1.05MB/s]\n",
      "  7%|7         | 4.00M/53.4M [00:04<00:44, 1.16MB/s]\n",
      "  9%|9         | 5.00M/53.4M [00:04<00:35, 1.43MB/s]\n",
      " 11%|#1        | 6.00M/53.4M [00:06<00:42, 1.18MB/s]\n",
      " 13%|#3        | 7.00M/53.4M [00:06<00:36, 1.31MB/s]\n",
      " 15%|#4        | 8.00M/53.4M [00:07<00:34, 1.37MB/s]\n",
      " 17%|#6        | 9.00M/53.4M [00:08<00:31, 1.47MB/s]\n",
      " 19%|#8        | 10.0M/53.4M [00:08<00:29, 1.53MB/s]\n",
      " 21%|##        | 11.0M/53.4M [00:09<00:27, 1.60MB/s]\n",
      " 22%|##2       | 12.0M/53.4M [00:10<00:33, 1.30MB/s]\n",
      " 24%|##4       | 13.0M/53.4M [00:10<00:28, 1.46MB/s]\n",
      " 26%|##6       | 14.0M/53.4M [00:13<00:49, 826kB/s] \n",
      " 28%|##8       | 15.0M/53.4M [00:14<00:42, 943kB/s]\n",
      " 30%|##9       | 16.0M/53.4M [00:16<00:50, 781kB/s]\n",
      " 32%|###1      | 17.0M/53.4M [00:17<00:50, 760kB/s]\n",
      " 34%|###3      | 18.0M/53.4M [00:17<00:36, 1.01MB/s]\n",
      " 36%|###5      | 19.0M/53.4M [00:18<00:30, 1.17MB/s]\n",
      " 37%|###7      | 20.0M/53.4M [00:19<00:30, 1.15MB/s]\n",
      " 39%|###9      | 21.0M/53.4M [00:19<00:25, 1.32MB/s]\n",
      " 41%|####1     | 22.0M/53.4M [00:20<00:25, 1.31MB/s]\n",
      " 43%|####3     | 23.0M/53.4M [00:21<00:24, 1.28MB/s]\n",
      " 45%|####4     | 24.0M/53.4M [00:22<00:24, 1.27MB/s]\n",
      " 47%|####6     | 25.0M/53.4M [00:23<00:25, 1.18MB/s]\n",
      " 49%|####8     | 26.0M/53.4M [00:23<00:21, 1.31MB/s]\n",
      " 51%|#####     | 27.0M/53.4M [00:24<00:20, 1.36MB/s]\n",
      " 52%|#####2    | 28.0M/53.4M [00:25<00:17, 1.49MB/s]\n",
      " 54%|#####4    | 29.0M/53.4M [00:25<00:17, 1.47MB/s]\n",
      " 56%|#####6    | 30.0M/53.4M [00:26<00:15, 1.60MB/s]\n",
      " 58%|#####8    | 31.0M/53.4M [00:26<00:13, 1.74MB/s]\n",
      " 60%|#####9    | 32.0M/53.4M [00:27<00:12, 1.86MB/s]\n",
      " 62%|######1   | 33.0M/53.4M [00:27<00:11, 1.93MB/s]\n",
      " 64%|######3   | 34.0M/53.4M [00:28<00:10, 1.90MB/s]\n",
      " 66%|######5   | 35.0M/53.4M [00:28<00:09, 1.97MB/s]\n",
      " 67%|######7   | 36.0M/53.4M [00:29<00:09, 1.96MB/s]\n",
      " 69%|######9   | 37.0M/53.4M [00:30<00:09, 1.82MB/s]\n",
      " 71%|#######1  | 38.0M/53.4M [00:30<00:08, 1.84MB/s]\n",
      " 73%|#######3  | 39.0M/53.4M [00:31<00:08, 1.82MB/s]\n",
      " 75%|#######4  | 40.0M/53.4M [00:32<00:08, 1.56MB/s]\n",
      " 77%|#######6  | 41.0M/53.4M [00:33<00:09, 1.40MB/s]\n",
      " 79%|#######8  | 42.0M/53.4M [00:34<00:08, 1.34MB/s]\n",
      " 81%|########  | 43.0M/53.4M [00:34<00:07, 1.47MB/s]\n",
      " 82%|########2 | 44.0M/53.4M [00:35<00:06, 1.49MB/s]\n",
      " 84%|########4 | 45.0M/53.4M [00:35<00:05, 1.67MB/s]\n",
      " 86%|########6 | 46.0M/53.4M [00:36<00:04, 1.78MB/s]\n",
      " 88%|########8 | 47.0M/53.4M [00:36<00:03, 1.88MB/s]\n",
      " 90%|########9 | 48.0M/53.4M [00:37<00:02, 1.94MB/s]\n",
      " 92%|#########1| 49.0M/53.4M [00:37<00:02, 1.87MB/s]\n",
      " 94%|#########3| 50.0M/53.4M [00:38<00:02, 1.74MB/s]\n",
      " 96%|#########5| 51.0M/53.4M [00:39<00:01, 1.76MB/s]\n",
      " 97%|#########7| 52.0M/53.4M [00:39<00:00, 1.70MB/s]\n",
      " 99%|#########9| 53.0M/53.4M [00:40<00:00, 1.60MB/s]\n",
      "100%|##########| 53.4M/53.4M [00:40<00:00, 1.55MB/s]\n",
      "100%|##########| 53.4M/53.4M [00:40<00:00, 1.37MB/s]\n"
     ]
    }
   ],
   "source": [
    "# Download and unzip Dataset  into '/usr/local' using API command usning --unzip\n",
    "! kaggle datasets download -d julian3833/jigsaw-toxic-comment-classification-challenge --unzip"
   ]
  },
  {
   "cell_type": "code",
   "execution_count": null,
   "metadata": {},
   "outputs": [],
   "source": []
  }
 ],
 "metadata": {
  "kernelspec": {
   "display_name": "Python 3 (ipykernel)",
   "language": "python",
   "name": "python3"
  },
  "language_info": {
   "codemirror_mode": {
    "name": "ipython",
    "version": 3
   },
   "file_extension": ".py",
   "mimetype": "text/x-python",
   "name": "python",
   "nbconvert_exporter": "python",
   "pygments_lexer": "ipython3",
   "version": "3.10.0"
  },
  "vscode": {
   "interpreter": {
    "hash": "ead3e91e135fbaa728b4bbcd02d19569dbf39ef118ea03781de3e3d360ab0d33"
   }
  }
 },
 "nbformat": 4,
 "nbformat_minor": 4
}
